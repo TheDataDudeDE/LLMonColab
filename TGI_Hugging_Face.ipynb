{
  "nbformat": 4,
  "nbformat_minor": 0,
  "metadata": {
    "colab": {
      "provenance": [],
      "gpuType": "T4",
      "machine_shape": "hm",
      "authorship_tag": "ABX9TyOhOLTbo14yoWZiQWPrxJ2L",
      "include_colab_link": true
    },
    "kernelspec": {
      "name": "python3",
      "display_name": "Python 3"
    },
    "language_info": {
      "name": "python"
    },
    "accelerator": "GPU"
  },
  "cells": [
    {
      "cell_type": "markdown",
      "metadata": {
        "id": "view-in-github",
        "colab_type": "text"
      },
      "source": [
        "<a href=\"https://colab.research.google.com/github/TheDataDudeDE/LLMonColab/blob/main/TGI_Hugging_Face.ipynb\" target=\"_parent\"><img src=\"https://colab.research.google.com/assets/colab-badge.svg\" alt=\"Open In Colab\"/></a>"
      ]
    },
    {
      "cell_type": "markdown",
      "source": [
        "#Installation"
      ],
      "metadata": {
        "id": "1P97em07rQJv"
      }
    },
    {
      "cell_type": "code",
      "source": [
        "%%shell\n",
        "./setup_falcon.sh"
      ],
      "metadata": {
        "colab": {
          "base_uri": "https://localhost:8080/"
        },
        "id": "aKyxwxGwYlSq",
        "outputId": "7ac99639-d8df-438a-f651-deaa8659e8d1"
      },
      "execution_count": 26,
      "outputs": [
        {
          "output_type": "stream",
          "name": "stdout",
          "text": [
            "\u001b[0m\u001b[01;34msample_data\u001b[0m/  \u001b[01;32msetup_falcon.sh\u001b[0m*  \u001b[01;34mtext-generation-inference\u001b[0m/\n"
          ]
        }
      ]
    },
    {
      "cell_type": "code",
      "source": [
        "%%shell\n",
        "curl 127.0.0.1:3000/generate \\\n",
        "    -X POST \\\n",
        "    -d '{\"inputs\":\"Was ist der Sinn des Lebens\",\"parameters\":{\"max_new_tokens\":20}}' \\\n",
        "    -H 'Content-Type: application/json'"
      ],
      "metadata": {
        "id": "JR-VwLPmd3SC",
        "colab": {
          "base_uri": "https://localhost:8080/"
        },
        "outputId": "858172da-0e58-426d-ed18-b4d58c50ff00"
      },
      "execution_count": 27,
      "outputs": [
        {
          "output_type": "stream",
          "name": "stdout",
          "text": [
            "curl: /usr/local/lib/libcurl.so.4: no version information available (required by curl)\n",
            "{\"generated_text\":\"?\\nDer Sinn des Lebens ist der, den wir uns selbst finden.\\nDer Sinn des Lebens\"}"
          ]
        },
        {
          "output_type": "execute_result",
          "data": {
            "text/plain": []
          },
          "metadata": {},
          "execution_count": 27
        }
      ]
    },
    {
      "cell_type": "code",
      "source": [
        "!pip install huggingface-hub --quiet"
      ],
      "metadata": {
        "colab": {
          "base_uri": "https://localhost:8080/"
        },
        "id": "jbWL6HoozYtp",
        "outputId": "80fbacf0-1608-47d5-b11d-ca59e19184fd"
      },
      "execution_count": 28,
      "outputs": [
        {
          "output_type": "stream",
          "name": "stdout",
          "text": [
            "\u001b[33mWARNING: Running pip as the 'root' user can result in broken permissions and conflicting behaviour with the system package manager. It is recommended to use a virtual environment instead: https://pip.pypa.io/warnings/venv\u001b[0m\u001b[33m\n",
            "\u001b[0m"
          ]
        }
      ]
    },
    {
      "cell_type": "code",
      "source": [
        "from huggingface_hub import InferenceClient\n",
        "\n",
        "client = InferenceClient(model=\"http://127.0.0.1:3000\")\n",
        "client.text_generation(prompt=\"What ist Deep learning\")"
      ],
      "metadata": {
        "colab": {
          "base_uri": "https://localhost:8080/",
          "height": 54
        },
        "id": "sRy1XOcxC0Rz",
        "outputId": "7f197984-89d3-48fc-c35b-47dd935fc426"
      },
      "execution_count": 29,
      "outputs": [
        {
          "output_type": "execute_result",
          "data": {
            "text/plain": [
              "'?\\nDeep learning is a branch of machine learning that uses artificial neural networks to learn and make decisions'"
            ],
            "application/vnd.google.colaboratory.intrinsic+json": {
              "type": "string"
            }
          },
          "metadata": {},
          "execution_count": 29
        }
      ]
    }
  ]
}